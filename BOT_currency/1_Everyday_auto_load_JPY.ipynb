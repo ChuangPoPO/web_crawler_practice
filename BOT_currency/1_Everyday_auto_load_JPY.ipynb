{
 "cells": [
  {
   "cell_type": "code",
   "execution_count": 1,
   "metadata": {},
   "outputs": [],
   "source": [
    "import sqlite3"
   ]
  },
  {
   "cell_type": "code",
   "execution_count": 2,
   "metadata": {},
   "outputs": [],
   "source": [
    "import pandas as pd"
   ]
  },
  {
   "cell_type": "markdown",
   "metadata": {},
   "source": [
    "# 抓取最新資料"
   ]
  },
  {
   "cell_type": "code",
   "execution_count": 3,
   "metadata": {},
   "outputs": [],
   "source": [
    "o_data = pd.read_html('http://rate.bot.com.tw/xrt/quote/l6m/JPY')\n",
    "jpy_his = o_data[0].iloc[:,0:6]\n",
    "jpy_his.columns = ['掛牌日期', '幣別', '現金-本行買入', '現金-本行賣出', '即期-本行買入', '即期-本行賣出']\n",
    "from datetime import datetime\n",
    "jpy_his = jpy_his.set_index(jpy_his['掛牌日期'])\n",
    "del jpy_his['掛牌日期']\n",
    "jpy_his.index = pd.to_datetime(jpy_his.index, format='%Y/%m/%d')"
   ]
  },
  {
   "cell_type": "markdown",
   "metadata": {},
   "source": [
    "### 取出最近1筆日期"
   ]
  },
  {
   "cell_type": "code",
   "execution_count": 4,
   "metadata": {},
   "outputs": [],
   "source": [
    "today_jpy = jpy_his.head(1)"
   ]
  },
  {
   "cell_type": "code",
   "execution_count": 10,
   "metadata": {},
   "outputs": [
    {
     "data": {
      "text/plain": [
       "bytes"
      ]
     },
     "execution_count": 10,
     "metadata": {},
     "output_type": "execute_result"
    }
   ],
   "source": [
    "type(today_jpy.to_html().encode('utf-8'))\n",
    "# today_jpy.to_html().encode('utf-8')"
   ]
  },
  {
   "cell_type": "markdown",
   "metadata": {},
   "source": [
    "### 寫入資料庫\n",
    "最新資料寫入 dataFrame\n",
    "\n",
    "整個 dataFrame 再寫入 SQLite"
   ]
  },
  {
   "cell_type": "code",
   "execution_count": 9,
   "metadata": {},
   "outputs": [],
   "source": [
    "with sqlite3.connect('BOT_JPY.sqlite') as db:\n",
    "    today_jpy.to_sql('BOT_JPY', con= db, if_exists = 'append')"
   ]
  },
  {
   "cell_type": "code",
   "execution_count": 10,
   "metadata": {},
   "outputs": [
    {
     "name": "stdout",
     "output_type": "stream",
     "text": [
      "<class 'pandas.core.frame.DataFrame'>\n",
      "RangeIndex: 131 entries, 0 to 130\n",
      "Data columns (total 7 columns):\n",
      "index      130 non-null float64\n",
      "掛牌日期       131 non-null object\n",
      "幣別         131 non-null object\n",
      "現金-本行買入    131 non-null float64\n",
      "現金-本行賣出    131 non-null float64\n",
      "即期-本行買入    131 non-null float64\n",
      "即期-本行賣出    131 non-null float64\n",
      "dtypes: float64(5), object(2)\n",
      "memory usage: 7.2+ KB\n"
     ]
    }
   ],
   "source": [
    "with sqlite3.connect('C:/Users/poduo/Anaconda3_JupyterNB/20171217Python爬蟲實戰/BOT_currency/BOT_JPY.sqlite') as db:\n",
    "    df = pd.read_sql_query('select * from BOT_JPY', con = db)\n",
    "# df.info()"
   ]
  },
  {
   "cell_type": "code",
   "execution_count": 11,
   "metadata": {},
   "outputs": [
    {
     "data": {
      "text/html": [
       "<div>\n",
       "<style>\n",
       "    .dataframe thead tr:only-child th {\n",
       "        text-align: right;\n",
       "    }\n",
       "\n",
       "    .dataframe thead th {\n",
       "        text-align: left;\n",
       "    }\n",
       "\n",
       "    .dataframe tbody tr th {\n",
       "        vertical-align: top;\n",
       "    }\n",
       "</style>\n",
       "<table border=\"1\" class=\"dataframe\">\n",
       "  <thead>\n",
       "    <tr style=\"text-align: right;\">\n",
       "      <th></th>\n",
       "      <th>index</th>\n",
       "      <th>掛牌日期</th>\n",
       "      <th>幣別</th>\n",
       "      <th>現金-本行買入</th>\n",
       "      <th>現金-本行賣出</th>\n",
       "      <th>即期-本行買入</th>\n",
       "      <th>即期-本行賣出</th>\n",
       "    </tr>\n",
       "  </thead>\n",
       "  <tbody>\n",
       "    <tr>\n",
       "      <th>0</th>\n",
       "      <td>NaN</td>\n",
       "      <td>2018-01-26 00:00:00</td>\n",
       "      <td>日圓 (JPY)</td>\n",
       "      <td>0.2576</td>\n",
       "      <td>0.2686</td>\n",
       "      <td>0.2640</td>\n",
       "      <td>0.2680</td>\n",
       "    </tr>\n",
       "    <tr>\n",
       "      <th>1</th>\n",
       "      <td>0.0</td>\n",
       "      <td>2018-01-25 00:00:00</td>\n",
       "      <td>日圓 (JPY)</td>\n",
       "      <td>0.2581</td>\n",
       "      <td>0.2691</td>\n",
       "      <td>0.2645</td>\n",
       "      <td>0.2685</td>\n",
       "    </tr>\n",
       "    <tr>\n",
       "      <th>2</th>\n",
       "      <td>1.0</td>\n",
       "      <td>2018-01-24 00:00:00</td>\n",
       "      <td>日圓 (JPY)</td>\n",
       "      <td>0.2573</td>\n",
       "      <td>0.2683</td>\n",
       "      <td>0.2637</td>\n",
       "      <td>0.2677</td>\n",
       "    </tr>\n",
       "    <tr>\n",
       "      <th>3</th>\n",
       "      <td>2.0</td>\n",
       "      <td>2018-01-23 00:00:00</td>\n",
       "      <td>日圓 (JPY)</td>\n",
       "      <td>0.2553</td>\n",
       "      <td>0.2663</td>\n",
       "      <td>0.2617</td>\n",
       "      <td>0.2657</td>\n",
       "    </tr>\n",
       "    <tr>\n",
       "      <th>4</th>\n",
       "      <td>3.0</td>\n",
       "      <td>2018-01-22 00:00:00</td>\n",
       "      <td>日圓 (JPY)</td>\n",
       "      <td>0.2565</td>\n",
       "      <td>0.2675</td>\n",
       "      <td>0.2629</td>\n",
       "      <td>0.2669</td>\n",
       "    </tr>\n",
       "  </tbody>\n",
       "</table>\n",
       "</div>"
      ],
      "text/plain": [
       "   index                 掛牌日期        幣別  現金-本行買入  現金-本行賣出  即期-本行買入  即期-本行賣出\n",
       "0    NaN  2018-01-26 00:00:00  日圓 (JPY)   0.2576   0.2686   0.2640   0.2680\n",
       "1    0.0  2018-01-25 00:00:00  日圓 (JPY)   0.2581   0.2691   0.2645   0.2685\n",
       "2    1.0  2018-01-24 00:00:00  日圓 (JPY)   0.2573   0.2683   0.2637   0.2677\n",
       "3    2.0  2018-01-23 00:00:00  日圓 (JPY)   0.2553   0.2663   0.2617   0.2657\n",
       "4    3.0  2018-01-22 00:00:00  日圓 (JPY)   0.2565   0.2675   0.2629   0.2669"
      ]
     },
     "execution_count": 11,
     "metadata": {},
     "output_type": "execute_result"
    }
   ],
   "source": [
    "df = df.sort_values(by= ['掛牌日期'], ascending=False).reset_index(drop = True)\n",
    "# df.head(5)"
   ]
  },
  {
   "cell_type": "code",
   "execution_count": 12,
   "metadata": {},
   "outputs": [
    {
     "data": {
      "text/html": [
       "<div>\n",
       "<style>\n",
       "    .dataframe thead tr:only-child th {\n",
       "        text-align: right;\n",
       "    }\n",
       "\n",
       "    .dataframe thead th {\n",
       "        text-align: left;\n",
       "    }\n",
       "\n",
       "    .dataframe tbody tr th {\n",
       "        vertical-align: top;\n",
       "    }\n",
       "</style>\n",
       "<table border=\"1\" class=\"dataframe\">\n",
       "  <thead>\n",
       "    <tr style=\"text-align: right;\">\n",
       "      <th></th>\n",
       "      <th>index</th>\n",
       "      <th>掛牌日期</th>\n",
       "      <th>幣別</th>\n",
       "      <th>現金-本行買入</th>\n",
       "      <th>現金-本行賣出</th>\n",
       "      <th>即期-本行買入</th>\n",
       "      <th>即期-本行賣出</th>\n",
       "    </tr>\n",
       "  </thead>\n",
       "  <tbody>\n",
       "    <tr>\n",
       "      <th>0</th>\n",
       "      <td>NaN</td>\n",
       "      <td>2018-01-26 00:00:00</td>\n",
       "      <td>日圓 (JPY)</td>\n",
       "      <td>0.2576</td>\n",
       "      <td>0.2686</td>\n",
       "      <td>0.2640</td>\n",
       "      <td>0.2680</td>\n",
       "    </tr>\n",
       "    <tr>\n",
       "      <th>1</th>\n",
       "      <td>0.0</td>\n",
       "      <td>2018-01-25 00:00:00</td>\n",
       "      <td>日圓 (JPY)</td>\n",
       "      <td>0.2581</td>\n",
       "      <td>0.2691</td>\n",
       "      <td>0.2645</td>\n",
       "      <td>0.2685</td>\n",
       "    </tr>\n",
       "    <tr>\n",
       "      <th>2</th>\n",
       "      <td>1.0</td>\n",
       "      <td>2018-01-24 00:00:00</td>\n",
       "      <td>日圓 (JPY)</td>\n",
       "      <td>0.2573</td>\n",
       "      <td>0.2683</td>\n",
       "      <td>0.2637</td>\n",
       "      <td>0.2677</td>\n",
       "    </tr>\n",
       "    <tr>\n",
       "      <th>3</th>\n",
       "      <td>2.0</td>\n",
       "      <td>2018-01-23 00:00:00</td>\n",
       "      <td>日圓 (JPY)</td>\n",
       "      <td>0.2553</td>\n",
       "      <td>0.2663</td>\n",
       "      <td>0.2617</td>\n",
       "      <td>0.2657</td>\n",
       "    </tr>\n",
       "    <tr>\n",
       "      <th>4</th>\n",
       "      <td>3.0</td>\n",
       "      <td>2018-01-22 00:00:00</td>\n",
       "      <td>日圓 (JPY)</td>\n",
       "      <td>0.2565</td>\n",
       "      <td>0.2675</td>\n",
       "      <td>0.2629</td>\n",
       "      <td>0.2669</td>\n",
       "    </tr>\n",
       "  </tbody>\n",
       "</table>\n",
       "</div>"
      ],
      "text/plain": [
       "   index                 掛牌日期        幣別  現金-本行買入  現金-本行賣出  即期-本行買入  即期-本行賣出\n",
       "0    NaN  2018-01-26 00:00:00  日圓 (JPY)   0.2576   0.2686   0.2640   0.2680\n",
       "1    0.0  2018-01-25 00:00:00  日圓 (JPY)   0.2581   0.2691   0.2645   0.2685\n",
       "2    1.0  2018-01-24 00:00:00  日圓 (JPY)   0.2573   0.2683   0.2637   0.2677\n",
       "3    2.0  2018-01-23 00:00:00  日圓 (JPY)   0.2553   0.2663   0.2617   0.2657\n",
       "4    3.0  2018-01-22 00:00:00  日圓 (JPY)   0.2565   0.2675   0.2629   0.2669"
      ]
     },
     "execution_count": 12,
     "metadata": {},
     "output_type": "execute_result"
    }
   ],
   "source": [
    "df = df.drop_duplicates(['掛牌日期'], keep = 'last').reset_index(drop = True)\n",
    "# df.head(5)"
   ]
  },
  {
   "cell_type": "code",
   "execution_count": 13,
   "metadata": {},
   "outputs": [
    {
     "data": {
      "text/html": [
       "<div>\n",
       "<style>\n",
       "    .dataframe thead tr:only-child th {\n",
       "        text-align: right;\n",
       "    }\n",
       "\n",
       "    .dataframe thead th {\n",
       "        text-align: left;\n",
       "    }\n",
       "\n",
       "    .dataframe tbody tr th {\n",
       "        vertical-align: top;\n",
       "    }\n",
       "</style>\n",
       "<table border=\"1\" class=\"dataframe\">\n",
       "  <thead>\n",
       "    <tr style=\"text-align: right;\">\n",
       "      <th></th>\n",
       "      <th>掛牌日期</th>\n",
       "      <th>幣別</th>\n",
       "      <th>現金-本行買入</th>\n",
       "      <th>現金-本行賣出</th>\n",
       "      <th>即期-本行買入</th>\n",
       "      <th>即期-本行賣出</th>\n",
       "    </tr>\n",
       "  </thead>\n",
       "  <tbody>\n",
       "    <tr>\n",
       "      <th>0</th>\n",
       "      <td>2018-01-26 00:00:00</td>\n",
       "      <td>日圓 (JPY)</td>\n",
       "      <td>0.2576</td>\n",
       "      <td>0.2686</td>\n",
       "      <td>0.2640</td>\n",
       "      <td>0.2680</td>\n",
       "    </tr>\n",
       "    <tr>\n",
       "      <th>1</th>\n",
       "      <td>2018-01-25 00:00:00</td>\n",
       "      <td>日圓 (JPY)</td>\n",
       "      <td>0.2581</td>\n",
       "      <td>0.2691</td>\n",
       "      <td>0.2645</td>\n",
       "      <td>0.2685</td>\n",
       "    </tr>\n",
       "    <tr>\n",
       "      <th>2</th>\n",
       "      <td>2018-01-24 00:00:00</td>\n",
       "      <td>日圓 (JPY)</td>\n",
       "      <td>0.2573</td>\n",
       "      <td>0.2683</td>\n",
       "      <td>0.2637</td>\n",
       "      <td>0.2677</td>\n",
       "    </tr>\n",
       "    <tr>\n",
       "      <th>3</th>\n",
       "      <td>2018-01-23 00:00:00</td>\n",
       "      <td>日圓 (JPY)</td>\n",
       "      <td>0.2553</td>\n",
       "      <td>0.2663</td>\n",
       "      <td>0.2617</td>\n",
       "      <td>0.2657</td>\n",
       "    </tr>\n",
       "    <tr>\n",
       "      <th>4</th>\n",
       "      <td>2018-01-22 00:00:00</td>\n",
       "      <td>日圓 (JPY)</td>\n",
       "      <td>0.2565</td>\n",
       "      <td>0.2675</td>\n",
       "      <td>0.2629</td>\n",
       "      <td>0.2669</td>\n",
       "    </tr>\n",
       "  </tbody>\n",
       "</table>\n",
       "</div>"
      ],
      "text/plain": [
       "                  掛牌日期        幣別  現金-本行買入  現金-本行賣出  即期-本行買入  即期-本行賣出\n",
       "0  2018-01-26 00:00:00  日圓 (JPY)   0.2576   0.2686   0.2640   0.2680\n",
       "1  2018-01-25 00:00:00  日圓 (JPY)   0.2581   0.2691   0.2645   0.2685\n",
       "2  2018-01-24 00:00:00  日圓 (JPY)   0.2573   0.2683   0.2637   0.2677\n",
       "3  2018-01-23 00:00:00  日圓 (JPY)   0.2553   0.2663   0.2617   0.2657\n",
       "4  2018-01-22 00:00:00  日圓 (JPY)   0.2565   0.2675   0.2629   0.2669"
      ]
     },
     "execution_count": 13,
     "metadata": {},
     "output_type": "execute_result"
    }
   ],
   "source": [
    "del df['index']\n",
    "# df.head(5)"
   ]
  },
  {
   "cell_type": "code",
   "execution_count": 14,
   "metadata": {},
   "outputs": [],
   "source": [
    "with sqlite3.connect('BOT_JPY.sqlite') as db:\n",
    "    df.to_sql('BOT_JPY', con= db, if_exists = 'replace')"
   ]
  },
  {
   "cell_type": "code",
   "execution_count": null,
   "metadata": {},
   "outputs": [],
   "source": []
  }
 ],
 "metadata": {
  "kernelspec": {
   "display_name": "Python 3",
   "language": "python",
   "name": "python3"
  },
  "language_info": {
   "codemirror_mode": {
    "name": "ipython",
    "version": 3
   },
   "file_extension": ".py",
   "mimetype": "text/x-python",
   "name": "python",
   "nbconvert_exporter": "python",
   "pygments_lexer": "ipython3",
   "version": "3.6.3"
  }
 },
 "nbformat": 4,
 "nbformat_minor": 2
}
