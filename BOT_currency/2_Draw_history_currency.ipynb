{
 "cells": [
  {
   "cell_type": "code",
   "execution_count": 1,
   "metadata": {},
   "outputs": [],
   "source": [
    "import sqlite3\n",
    "import pandas as pd"
   ]
  },
  {
   "cell_type": "code",
   "execution_count": 2,
   "metadata": {},
   "outputs": [],
   "source": [
    "with sqlite3.connect('C:/Users/poduo/Anaconda3_JupyterNB/20171217Python爬蟲實戰/BOT_currency/BOT_JPY.sqlite') as db:\n",
    "    df = pd.read_sql_query('select * from BOT_JPY', con = db)"
   ]
  },
  {
   "cell_type": "code",
   "execution_count": 3,
   "metadata": {},
   "outputs": [
    {
     "name": "stdout",
     "output_type": "stream",
     "text": [
      "<class 'pandas.core.frame.DataFrame'>\n",
      "RangeIndex: 131 entries, 0 to 130\n",
      "Data columns (total 7 columns):\n",
      "index      131 non-null int64\n",
      "掛牌日期       131 non-null object\n",
      "幣別         131 non-null object\n",
      "現金-本行買入    131 non-null float64\n",
      "現金-本行賣出    131 non-null float64\n",
      "即期-本行買入    131 non-null float64\n",
      "即期-本行賣出    131 non-null float64\n",
      "dtypes: float64(4), int64(1), object(2)\n",
      "memory usage: 7.2+ KB\n"
     ]
    }
   ],
   "source": [
    "df.info()"
   ]
  },
  {
   "cell_type": "code",
   "execution_count": 4,
   "metadata": {},
   "outputs": [
    {
     "data": {
      "text/html": [
       "<div>\n",
       "<style>\n",
       "    .dataframe thead tr:only-child th {\n",
       "        text-align: right;\n",
       "    }\n",
       "\n",
       "    .dataframe thead th {\n",
       "        text-align: left;\n",
       "    }\n",
       "\n",
       "    .dataframe tbody tr th {\n",
       "        vertical-align: top;\n",
       "    }\n",
       "</style>\n",
       "<table border=\"1\" class=\"dataframe\">\n",
       "  <thead>\n",
       "    <tr style=\"text-align: right;\">\n",
       "      <th></th>\n",
       "      <th>掛牌日期</th>\n",
       "      <th>幣別</th>\n",
       "      <th>現金-本行買入</th>\n",
       "      <th>現金-本行賣出</th>\n",
       "      <th>即期-本行買入</th>\n",
       "      <th>即期-本行賣出</th>\n",
       "    </tr>\n",
       "  </thead>\n",
       "  <tbody>\n",
       "    <tr>\n",
       "      <th>0</th>\n",
       "      <td>2018-01-26 00:00:00</td>\n",
       "      <td>日圓 (JPY)</td>\n",
       "      <td>0.2576</td>\n",
       "      <td>0.2686</td>\n",
       "      <td>0.2640</td>\n",
       "      <td>0.2680</td>\n",
       "    </tr>\n",
       "    <tr>\n",
       "      <th>1</th>\n",
       "      <td>2018-01-25 00:00:00</td>\n",
       "      <td>日圓 (JPY)</td>\n",
       "      <td>0.2581</td>\n",
       "      <td>0.2691</td>\n",
       "      <td>0.2645</td>\n",
       "      <td>0.2685</td>\n",
       "    </tr>\n",
       "    <tr>\n",
       "      <th>2</th>\n",
       "      <td>2018-01-24 00:00:00</td>\n",
       "      <td>日圓 (JPY)</td>\n",
       "      <td>0.2573</td>\n",
       "      <td>0.2683</td>\n",
       "      <td>0.2637</td>\n",
       "      <td>0.2677</td>\n",
       "    </tr>\n",
       "    <tr>\n",
       "      <th>3</th>\n",
       "      <td>2018-01-23 00:00:00</td>\n",
       "      <td>日圓 (JPY)</td>\n",
       "      <td>0.2553</td>\n",
       "      <td>0.2663</td>\n",
       "      <td>0.2617</td>\n",
       "      <td>0.2657</td>\n",
       "    </tr>\n",
       "    <tr>\n",
       "      <th>4</th>\n",
       "      <td>2018-01-22 00:00:00</td>\n",
       "      <td>日圓 (JPY)</td>\n",
       "      <td>0.2565</td>\n",
       "      <td>0.2675</td>\n",
       "      <td>0.2629</td>\n",
       "      <td>0.2669</td>\n",
       "    </tr>\n",
       "  </tbody>\n",
       "</table>\n",
       "</div>"
      ],
      "text/plain": [
       "                  掛牌日期        幣別  現金-本行買入  現金-本行賣出  即期-本行買入  即期-本行賣出\n",
       "0  2018-01-26 00:00:00  日圓 (JPY)   0.2576   0.2686   0.2640   0.2680\n",
       "1  2018-01-25 00:00:00  日圓 (JPY)   0.2581   0.2691   0.2645   0.2685\n",
       "2  2018-01-24 00:00:00  日圓 (JPY)   0.2573   0.2683   0.2637   0.2677\n",
       "3  2018-01-23 00:00:00  日圓 (JPY)   0.2553   0.2663   0.2617   0.2657\n",
       "4  2018-01-22 00:00:00  日圓 (JPY)   0.2565   0.2675   0.2629   0.2669"
      ]
     },
     "execution_count": 4,
     "metadata": {},
     "output_type": "execute_result"
    }
   ],
   "source": [
    "del df['index']\n",
    "df.head(5)"
   ]
  },
  {
   "cell_type": "code",
   "execution_count": 5,
   "metadata": {},
   "outputs": [],
   "source": [
    "from datetime import datetime\n",
    "df = df.set_index(df['掛牌日期'])\n",
    "del df['掛牌日期']\n",
    "df.index = pd.to_datetime(df.index, format='%Y/%m/%d')"
   ]
  },
  {
   "cell_type": "code",
   "execution_count": 6,
   "metadata": {},
   "outputs": [
    {
     "data": {
      "text/html": [
       "<iframe id=\"igraph\" scrolling=\"no\" style=\"border:none;\" seamless=\"seamless\" src=\"https://plot.ly/~s842563/6.embed\" height=\"525px\" width=\"100%\"></iframe>"
      ],
      "text/plain": [
       "<plotly.tools.PlotlyDisplay object>"
      ]
     },
     "execution_count": 6,
     "metadata": {},
     "output_type": "execute_result"
    }
   ],
   "source": [
    "import plotly\n",
    "import plotly.plotly as py\n",
    "import plotly.graph_objs as go\n",
    "\n",
    "plotly.tools.set_credentials_file(username='s842563', api_key='gDEK6deJwLf0LwhD9BzC')\n",
    "\n",
    "trace_bank_sale = go.Scatter(x = df.index,\n",
    "                y=df['即期-本行賣出'],\n",
    "                name = \"即期匯率-本行賣出\",\n",
    "                line = dict(color = '#17BECF'),\n",
    "                opacity = 0.8)\n",
    "\n",
    "trace_bank_buy = go.Scatter(x = df.index,\n",
    "                y=df['即期-本行買入'],\n",
    "                name = \"即期匯率-本行買入\",\n",
    "                line = dict(color = 'red'),\n",
    "                opacity = 0.8)\n",
    "\n",
    "data = [trace_bank_sale, trace_bank_buy]\n",
    "\n",
    "layout = dict(\n",
    "    title = df['幣別'][0],\n",
    "    xaxis = dict(range = [df.index[-1], df.index[0]])\n",
    "             )\n",
    "\n",
    "fig = dict(data=data, layout=layout)\n",
    "\n",
    "py.iplot(fig, filename = df['幣別'][0])"
   ]
  },
  {
   "cell_type": "code",
   "execution_count": null,
   "metadata": {},
   "outputs": [],
   "source": []
  }
 ],
 "metadata": {
  "kernelspec": {
   "display_name": "Python 3",
   "language": "python",
   "name": "python3"
  },
  "language_info": {
   "codemirror_mode": {
    "name": "ipython",
    "version": 3
   },
   "file_extension": ".py",
   "mimetype": "text/x-python",
   "name": "python",
   "nbconvert_exporter": "python",
   "pygments_lexer": "ipython3",
   "version": "3.6.3"
  }
 },
 "nbformat": 4,
 "nbformat_minor": 2
}
