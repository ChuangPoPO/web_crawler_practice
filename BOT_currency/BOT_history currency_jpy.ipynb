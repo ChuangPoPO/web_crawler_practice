{
 "cells": [
  {
   "cell_type": "markdown",
   "metadata": {},
   "source": [
    "## 抓取 JPY 歷史匯率"
   ]
  },
  {
   "cell_type": "code",
   "execution_count": 2,
   "metadata": {},
   "outputs": [],
   "source": [
    "import pandas as pd"
   ]
  },
  {
   "cell_type": "code",
   "execution_count": 77,
   "metadata": {},
   "outputs": [
    {
     "name": "stdout",
     "output_type": "stream",
     "text": [
      "<class 'list'>\n",
      "1\n"
     ]
    }
   ],
   "source": [
    "o_data = pd.read_html('http://rate.bot.com.tw/xrt/quote/l6m/JPY')\n",
    "print(type(o_data))\n",
    "print(len(o_data))"
   ]
  },
  {
   "cell_type": "code",
   "execution_count": 78,
   "metadata": {},
   "outputs": [
    {
     "data": {
      "text/html": [
       "<div>\n",
       "<style>\n",
       "    .dataframe thead tr:only-child th {\n",
       "        text-align: right;\n",
       "    }\n",
       "\n",
       "    .dataframe thead th {\n",
       "        text-align: left;\n",
       "    }\n",
       "\n",
       "    .dataframe tbody tr th {\n",
       "        vertical-align: top;\n",
       "    }\n",
       "</style>\n",
       "<table border=\"1\" class=\"dataframe\">\n",
       "  <thead>\n",
       "    <tr>\n",
       "      <th></th>\n",
       "      <th colspan=\"2\" halign=\"left\">掛牌日期</th>\n",
       "      <th>幣別</th>\n",
       "      <th>現金匯率</th>\n",
       "      <th>Unnamed: 4_level_0</th>\n",
       "      <th>即期匯率</th>\n",
       "    </tr>\n",
       "    <tr>\n",
       "      <th></th>\n",
       "      <th>本行買入</th>\n",
       "      <th>本行賣出</th>\n",
       "      <th>本行買入</th>\n",
       "      <th>本行賣出</th>\n",
       "      <th>Unnamed: 4_level_1</th>\n",
       "      <th>Unnamed: 5_level_1</th>\n",
       "    </tr>\n",
       "  </thead>\n",
       "  <tbody>\n",
       "    <tr>\n",
       "      <th>120</th>\n",
       "      <td>2017/08/04</td>\n",
       "      <td>日圓 (JPY)</td>\n",
       "      <td>0.2658</td>\n",
       "      <td>0.2768</td>\n",
       "      <td>0.2722</td>\n",
       "      <td>0.2762</td>\n",
       "    </tr>\n",
       "    <tr>\n",
       "      <th>22</th>\n",
       "      <td>2017/12/22</td>\n",
       "      <td>日圓 (JPY)</td>\n",
       "      <td>0.2558</td>\n",
       "      <td>0.2668</td>\n",
       "      <td>0.2622</td>\n",
       "      <td>0.2662</td>\n",
       "    </tr>\n",
       "    <tr>\n",
       "      <th>40</th>\n",
       "      <td>2017/11/28</td>\n",
       "      <td>日圓 (JPY)</td>\n",
       "      <td>0.2611</td>\n",
       "      <td>0.2721</td>\n",
       "      <td>0.2675</td>\n",
       "      <td>0.2715</td>\n",
       "    </tr>\n",
       "    <tr>\n",
       "      <th>81</th>\n",
       "      <td>2017/09/28</td>\n",
       "      <td>日圓 (JPY)</td>\n",
       "      <td>0.2609</td>\n",
       "      <td>0.2719</td>\n",
       "      <td>0.2673</td>\n",
       "      <td>0.2713</td>\n",
       "    </tr>\n",
       "    <tr>\n",
       "      <th>29</th>\n",
       "      <td>2017/12/13</td>\n",
       "      <td>日圓 (JPY)</td>\n",
       "      <td>0.2563</td>\n",
       "      <td>0.2673</td>\n",
       "      <td>0.2627</td>\n",
       "      <td>0.2667</td>\n",
       "    </tr>\n",
       "  </tbody>\n",
       "</table>\n",
       "</div>"
      ],
      "text/plain": [
       "           掛牌日期                幣別    現金匯率 Unnamed: 4_level_0  \\\n",
       "           本行買入      本行賣出    本行買入    本行賣出 Unnamed: 4_level_1   \n",
       "120  2017/08/04  日圓 (JPY)  0.2658  0.2768             0.2722   \n",
       "22   2017/12/22  日圓 (JPY)  0.2558  0.2668             0.2622   \n",
       "40   2017/11/28  日圓 (JPY)  0.2611  0.2721             0.2675   \n",
       "81   2017/09/28  日圓 (JPY)  0.2609  0.2719             0.2673   \n",
       "29   2017/12/13  日圓 (JPY)  0.2563  0.2673             0.2627   \n",
       "\n",
       "                  即期匯率  \n",
       "    Unnamed: 5_level_1  \n",
       "120             0.2762  \n",
       "22              0.2662  \n",
       "40              0.2715  \n",
       "81              0.2713  \n",
       "29              0.2667  "
      ]
     },
     "execution_count": 78,
     "metadata": {},
     "output_type": "execute_result"
    }
   ],
   "source": [
    "jpy_his = o_data[0].iloc[:,0:6]\n",
    "jpy_his.sample(5)"
   ]
  },
  {
   "cell_type": "code",
   "execution_count": 79,
   "metadata": {},
   "outputs": [
    {
     "data": {
      "text/html": [
       "<div>\n",
       "<style>\n",
       "    .dataframe thead tr:only-child th {\n",
       "        text-align: right;\n",
       "    }\n",
       "\n",
       "    .dataframe thead th {\n",
       "        text-align: left;\n",
       "    }\n",
       "\n",
       "    .dataframe tbody tr th {\n",
       "        vertical-align: top;\n",
       "    }\n",
       "</style>\n",
       "<table border=\"1\" class=\"dataframe\">\n",
       "  <thead>\n",
       "    <tr style=\"text-align: right;\">\n",
       "      <th></th>\n",
       "      <th>掛牌日期</th>\n",
       "      <th>幣別</th>\n",
       "      <th>現金-本行買入</th>\n",
       "      <th>現金-本行賣出</th>\n",
       "      <th>即期-本行買入</th>\n",
       "      <th>即期-本行賣出</th>\n",
       "    </tr>\n",
       "  </thead>\n",
       "  <tbody>\n",
       "    <tr>\n",
       "      <th>25</th>\n",
       "      <td>2017/12/19</td>\n",
       "      <td>日圓 (JPY)</td>\n",
       "      <td>0.2581</td>\n",
       "      <td>0.2691</td>\n",
       "      <td>0.2645</td>\n",
       "      <td>0.2685</td>\n",
       "    </tr>\n",
       "    <tr>\n",
       "      <th>41</th>\n",
       "      <td>2017/11/27</td>\n",
       "      <td>日圓 (JPY)</td>\n",
       "      <td>0.2610</td>\n",
       "      <td>0.2720</td>\n",
       "      <td>0.2674</td>\n",
       "      <td>0.2714</td>\n",
       "    </tr>\n",
       "    <tr>\n",
       "      <th>115</th>\n",
       "      <td>2017/08/11</td>\n",
       "      <td>日圓 (JPY)</td>\n",
       "      <td>0.2696</td>\n",
       "      <td>0.2806</td>\n",
       "      <td>0.2760</td>\n",
       "      <td>0.2800</td>\n",
       "    </tr>\n",
       "    <tr>\n",
       "      <th>102</th>\n",
       "      <td>2017/08/30</td>\n",
       "      <td>日圓 (JPY)</td>\n",
       "      <td>0.2657</td>\n",
       "      <td>0.2767</td>\n",
       "      <td>0.2721</td>\n",
       "      <td>0.2761</td>\n",
       "    </tr>\n",
       "    <tr>\n",
       "      <th>88</th>\n",
       "      <td>2017/09/19</td>\n",
       "      <td>日圓 (JPY)</td>\n",
       "      <td>0.2613</td>\n",
       "      <td>0.2723</td>\n",
       "      <td>0.2677</td>\n",
       "      <td>0.2717</td>\n",
       "    </tr>\n",
       "  </tbody>\n",
       "</table>\n",
       "</div>"
      ],
      "text/plain": [
       "           掛牌日期        幣別  現金-本行買入  現金-本行賣出  即期-本行買入  即期-本行賣出\n",
       "25   2017/12/19  日圓 (JPY)   0.2581   0.2691   0.2645   0.2685\n",
       "41   2017/11/27  日圓 (JPY)   0.2610   0.2720   0.2674   0.2714\n",
       "115  2017/08/11  日圓 (JPY)   0.2696   0.2806   0.2760   0.2800\n",
       "102  2017/08/30  日圓 (JPY)   0.2657   0.2767   0.2721   0.2761\n",
       "88   2017/09/19  日圓 (JPY)   0.2613   0.2723   0.2677   0.2717"
      ]
     },
     "execution_count": 79,
     "metadata": {},
     "output_type": "execute_result"
    }
   ],
   "source": [
    "jpy_his.columns = ['掛牌日期', '幣別', '現金-本行買入', '現金-本行賣出', '即期-本行買入', '即期-本行賣出']\n",
    "jpy_his.sample(5)"
   ]
  },
  {
   "cell_type": "markdown",
   "metadata": {},
   "source": [
    "### 將掛牌日期改為Datetime格式，並設為index"
   ]
  },
  {
   "cell_type": "code",
   "execution_count": 80,
   "metadata": {},
   "outputs": [
    {
     "data": {
      "text/html": [
       "<div>\n",
       "<style>\n",
       "    .dataframe thead tr:only-child th {\n",
       "        text-align: right;\n",
       "    }\n",
       "\n",
       "    .dataframe thead th {\n",
       "        text-align: left;\n",
       "    }\n",
       "\n",
       "    .dataframe tbody tr th {\n",
       "        vertical-align: top;\n",
       "    }\n",
       "</style>\n",
       "<table border=\"1\" class=\"dataframe\">\n",
       "  <thead>\n",
       "    <tr style=\"text-align: right;\">\n",
       "      <th></th>\n",
       "      <th>幣別</th>\n",
       "      <th>現金-本行買入</th>\n",
       "      <th>現金-本行賣出</th>\n",
       "      <th>即期-本行買入</th>\n",
       "      <th>即期-本行賣出</th>\n",
       "    </tr>\n",
       "    <tr>\n",
       "      <th>掛牌日期</th>\n",
       "      <th></th>\n",
       "      <th></th>\n",
       "      <th></th>\n",
       "      <th></th>\n",
       "      <th></th>\n",
       "    </tr>\n",
       "  </thead>\n",
       "  <tbody>\n",
       "    <tr>\n",
       "      <th>2017/12/19</th>\n",
       "      <td>日圓 (JPY)</td>\n",
       "      <td>0.2581</td>\n",
       "      <td>0.2691</td>\n",
       "      <td>0.2645</td>\n",
       "      <td>0.2685</td>\n",
       "    </tr>\n",
       "    <tr>\n",
       "      <th>2017/08/22</th>\n",
       "      <td>日圓 (JPY)</td>\n",
       "      <td>0.2687</td>\n",
       "      <td>0.2797</td>\n",
       "      <td>0.2751</td>\n",
       "      <td>0.2791</td>\n",
       "    </tr>\n",
       "    <tr>\n",
       "      <th>2017/07/25</th>\n",
       "      <td>日圓 (JPY)</td>\n",
       "      <td>0.2644</td>\n",
       "      <td>0.2754</td>\n",
       "      <td>0.2708</td>\n",
       "      <td>0.2748</td>\n",
       "    </tr>\n",
       "    <tr>\n",
       "      <th>2017/12/29</th>\n",
       "      <td>日圓 (JPY)</td>\n",
       "      <td>0.2558</td>\n",
       "      <td>0.2668</td>\n",
       "      <td>0.2622</td>\n",
       "      <td>0.2662</td>\n",
       "    </tr>\n",
       "    <tr>\n",
       "      <th>2017/09/27</th>\n",
       "      <td>日圓 (JPY)</td>\n",
       "      <td>0.2604</td>\n",
       "      <td>0.2714</td>\n",
       "      <td>0.2668</td>\n",
       "      <td>0.2708</td>\n",
       "    </tr>\n",
       "  </tbody>\n",
       "</table>\n",
       "</div>"
      ],
      "text/plain": [
       "                  幣別  現金-本行買入  現金-本行賣出  即期-本行買入  即期-本行賣出\n",
       "掛牌日期                                                    \n",
       "2017/12/19  日圓 (JPY)   0.2581   0.2691   0.2645   0.2685\n",
       "2017/08/22  日圓 (JPY)   0.2687   0.2797   0.2751   0.2791\n",
       "2017/07/25  日圓 (JPY)   0.2644   0.2754   0.2708   0.2748\n",
       "2017/12/29  日圓 (JPY)   0.2558   0.2668   0.2622   0.2662\n",
       "2017/09/27  日圓 (JPY)   0.2604   0.2714   0.2668   0.2708"
      ]
     },
     "execution_count": 80,
     "metadata": {},
     "output_type": "execute_result"
    }
   ],
   "source": [
    "from datetime import datetime\n",
    "jpy_his = jpy_his.set_index(jpy_his['掛牌日期'])\n",
    "del jpy_his['掛牌日期']\n",
    "jpy_his.sample(5)"
   ]
  },
  {
   "cell_type": "code",
   "execution_count": 81,
   "metadata": {},
   "outputs": [
    {
     "data": {
      "text/html": [
       "<div>\n",
       "<style>\n",
       "    .dataframe thead tr:only-child th {\n",
       "        text-align: right;\n",
       "    }\n",
       "\n",
       "    .dataframe thead th {\n",
       "        text-align: left;\n",
       "    }\n",
       "\n",
       "    .dataframe tbody tr th {\n",
       "        vertical-align: top;\n",
       "    }\n",
       "</style>\n",
       "<table border=\"1\" class=\"dataframe\">\n",
       "  <thead>\n",
       "    <tr style=\"text-align: right;\">\n",
       "      <th></th>\n",
       "      <th>幣別</th>\n",
       "      <th>現金-本行買入</th>\n",
       "      <th>現金-本行賣出</th>\n",
       "      <th>即期-本行買入</th>\n",
       "      <th>即期-本行賣出</th>\n",
       "    </tr>\n",
       "    <tr>\n",
       "      <th>掛牌日期</th>\n",
       "      <th></th>\n",
       "      <th></th>\n",
       "      <th></th>\n",
       "      <th></th>\n",
       "      <th></th>\n",
       "    </tr>\n",
       "  </thead>\n",
       "  <tbody>\n",
       "    <tr>\n",
       "      <th>2017-09-15</th>\n",
       "      <td>日圓 (JPY)</td>\n",
       "      <td>0.2632</td>\n",
       "      <td>0.2742</td>\n",
       "      <td>0.2696</td>\n",
       "      <td>0.2736</td>\n",
       "    </tr>\n",
       "    <tr>\n",
       "      <th>2017-11-10</th>\n",
       "      <td>日圓 (JPY)</td>\n",
       "      <td>0.2573</td>\n",
       "      <td>0.2683</td>\n",
       "      <td>0.2637</td>\n",
       "      <td>0.2677</td>\n",
       "    </tr>\n",
       "    <tr>\n",
       "      <th>2017-12-28</th>\n",
       "      <td>日圓 (JPY)</td>\n",
       "      <td>0.2558</td>\n",
       "      <td>0.2668</td>\n",
       "      <td>0.2622</td>\n",
       "      <td>0.2662</td>\n",
       "    </tr>\n",
       "    <tr>\n",
       "      <th>2018-01-12</th>\n",
       "      <td>日圓 (JPY)</td>\n",
       "      <td>0.2573</td>\n",
       "      <td>0.2683</td>\n",
       "      <td>0.2637</td>\n",
       "      <td>0.2677</td>\n",
       "    </tr>\n",
       "    <tr>\n",
       "      <th>2017-11-03</th>\n",
       "      <td>日圓 (JPY)</td>\n",
       "      <td>0.2560</td>\n",
       "      <td>0.2670</td>\n",
       "      <td>0.2624</td>\n",
       "      <td>0.2664</td>\n",
       "    </tr>\n",
       "  </tbody>\n",
       "</table>\n",
       "</div>"
      ],
      "text/plain": [
       "                  幣別  現金-本行買入  現金-本行賣出  即期-本行買入  即期-本行賣出\n",
       "掛牌日期                                                    \n",
       "2017-09-15  日圓 (JPY)   0.2632   0.2742   0.2696   0.2736\n",
       "2017-11-10  日圓 (JPY)   0.2573   0.2683   0.2637   0.2677\n",
       "2017-12-28  日圓 (JPY)   0.2558   0.2668   0.2622   0.2662\n",
       "2018-01-12  日圓 (JPY)   0.2573   0.2683   0.2637   0.2677\n",
       "2017-11-03  日圓 (JPY)   0.2560   0.2670   0.2624   0.2664"
      ]
     },
     "execution_count": 81,
     "metadata": {},
     "output_type": "execute_result"
    }
   ],
   "source": [
    "jpy_his.index = pd.to_datetime(jpy_his.index, format='%Y/%m/%d')\n",
    "jpy_his.sample(5)"
   ]
  },
  {
   "cell_type": "code",
   "execution_count": 82,
   "metadata": {},
   "outputs": [
    {
     "data": {
      "text/plain": [
       "pandas.core.indexes.datetimes.DatetimeIndex"
      ]
     },
     "execution_count": 82,
     "metadata": {},
     "output_type": "execute_result"
    }
   ],
   "source": [
    "type(jpy_his.index)"
   ]
  },
  {
   "cell_type": "code",
   "execution_count": 83,
   "metadata": {
    "scrolled": true
   },
   "outputs": [
    {
     "name": "stdout",
     "output_type": "stream",
     "text": [
      "<class 'pandas.core.frame.DataFrame'>\n",
      "DatetimeIndex: 129 entries, 2018-01-24 to 2017-07-25\n",
      "Data columns (total 5 columns):\n",
      "幣別         129 non-null object\n",
      "現金-本行買入    129 non-null float64\n",
      "現金-本行賣出    129 non-null float64\n",
      "即期-本行買入    129 non-null float64\n",
      "即期-本行賣出    129 non-null float64\n",
      "dtypes: float64(4), object(1)\n",
      "memory usage: 6.0+ KB\n"
     ]
    }
   ],
   "source": [
    "jpy_his.info()"
   ]
  },
  {
   "cell_type": "markdown",
   "metadata": {},
   "source": [
    "## 將歷即期史匯率繪成圖表"
   ]
  },
  {
   "cell_type": "code",
   "execution_count": 84,
   "metadata": {},
   "outputs": [
    {
     "data": {
      "text/html": [
       "<iframe id=\"igraph\" scrolling=\"no\" style=\"border:none;\" seamless=\"seamless\" src=\"https://plot.ly/~s842563/6.embed\" height=\"525px\" width=\"100%\"></iframe>"
      ],
      "text/plain": [
       "<plotly.tools.PlotlyDisplay object>"
      ]
     },
     "execution_count": 84,
     "metadata": {},
     "output_type": "execute_result"
    }
   ],
   "source": [
    "import plotly\n",
    "import plotly.plotly as py\n",
    "import plotly.graph_objs as go\n",
    "\n",
    "plotly.tools.set_credentials_file(username='s842563', api_key='gDEK6deJwLf0LwhD9BzC')\n",
    "\n",
    "trace_bank_sale = go.Scatter(x = jpy_his.index,\n",
    "                y=jpy_his['即期-本行賣出'],\n",
    "                name = \"即期匯率-本行賣出\",\n",
    "                line = dict(color = '#17BECF'),\n",
    "                opacity = 0.8)\n",
    "\n",
    "trace_bank_buy = go.Scatter(x = jpy_his.index,\n",
    "                y=jpy_his['即期-本行買入'],\n",
    "                name = \"即期匯率-本行買入\",\n",
    "                line = dict(color = 'red'),\n",
    "                opacity = 0.8)\n",
    "\n",
    "data = [trace_bank_sale, trace_bank_buy]\n",
    "\n",
    "layout = dict(\n",
    "    title = jpy_his['幣別'][0],\n",
    "    xaxis = dict(range = [jpy_his.index[-1], jpy_his.index[0]])\n",
    "             )\n",
    "\n",
    "fig = dict(data=data, layout=layout)\n",
    "\n",
    "py.iplot(fig, filename = jpy_his['幣別'][0])"
   ]
  },
  {
   "cell_type": "markdown",
   "metadata": {},
   "source": [
    "## 將歷史匯率建入資料庫"
   ]
  },
  {
   "cell_type": "code",
   "execution_count": 85,
   "metadata": {},
   "outputs": [],
   "source": [
    "import sqlite3"
   ]
  },
  {
   "cell_type": "markdown",
   "metadata": {},
   "source": [
    "### 與資料庫建立連線"
   ]
  },
  {
   "cell_type": "code",
   "execution_count": 86,
   "metadata": {},
   "outputs": [],
   "source": [
    "with sqlite3.connect('BOT_JPY.sqlite') as db:\n",
    "    jpy_his.to_sql('BOT_JPY', con= db, if_exists= 'append')"
   ]
  },
  {
   "cell_type": "code",
   "execution_count": null,
   "metadata": {},
   "outputs": [],
   "source": []
  },
  {
   "cell_type": "code",
   "execution_count": null,
   "metadata": {},
   "outputs": [],
   "source": []
  },
  {
   "cell_type": "code",
   "execution_count": null,
   "metadata": {},
   "outputs": [],
   "source": []
  },
  {
   "cell_type": "code",
   "execution_count": null,
   "metadata": {},
   "outputs": [],
   "source": []
  },
  {
   "cell_type": "code",
   "execution_count": null,
   "metadata": {},
   "outputs": [],
   "source": []
  },
  {
   "cell_type": "code",
   "execution_count": 14,
   "metadata": {},
   "outputs": [],
   "source": [
    "import matplotlib.pyplot as plt\n",
    "%matplotlib inline"
   ]
  },
  {
   "cell_type": "code",
   "execution_count": 76,
   "metadata": {},
   "outputs": [
    {
     "ename": "SyntaxError",
     "evalue": "invalid syntax (<ipython-input-76-dc5ebfddfded>, line 11)",
     "output_type": "error",
     "traceback": [
      "\u001b[1;36m  File \u001b[1;32m\"<ipython-input-76-dc5ebfddfded>\"\u001b[1;36m, line \u001b[1;32m11\u001b[0m\n\u001b[1;33m    date_range = jpy_his.date_range(jpy_his.index[-1], jpy_his.index[0]])\u001b[0m\n\u001b[1;37m                                                                       ^\u001b[0m\n\u001b[1;31mSyntaxError\u001b[0m\u001b[1;31m:\u001b[0m invalid syntax\n"
     ]
    }
   ],
   "source": [
    "# 作圖風格\n",
    "plt.style.use('ggplot')\n",
    "# 作圖大小\n",
    "fig = plt.figure(figsize=(20,6))\n",
    "# 字體設定， plt.rcParams['font.family'] = 'DFKai-SB'\n",
    "font = {'fontname':'DFKai-SB'}\n",
    "\n",
    "# 資料\n",
    "y = jpy_his['即期-本行買入']\n",
    "y2 = jpy_his['即期-本行賣出']\n",
    "date_range = jpy_his.date_range(jpy_his.index[-1], jpy_his.index[0]])\n",
    "\n",
    "# 作圖\n",
    "jpy_his.plot(kind = 'line', y = y, style = 'b.-')\n",
    "jpy_his.plot(kind = 'line', y = y2, style = 'r.-')\n",
    "\n",
    "# 標題\n",
    "jpy_his.plot(title = jpy_his['幣別'][0])\n",
    "\n",
    "plt.show()"
   ]
  },
  {
   "cell_type": "code",
   "execution_count": null,
   "metadata": {},
   "outputs": [],
   "source": []
  }
 ],
 "metadata": {
  "kernelspec": {
   "display_name": "Python 3",
   "language": "python",
   "name": "python3"
  },
  "language_info": {
   "codemirror_mode": {
    "name": "ipython",
    "version": 3
   },
   "file_extension": ".py",
   "mimetype": "text/x-python",
   "name": "python",
   "nbconvert_exporter": "python",
   "pygments_lexer": "ipython3",
   "version": "3.6.3"
  }
 },
 "nbformat": 4,
 "nbformat_minor": 2
}
