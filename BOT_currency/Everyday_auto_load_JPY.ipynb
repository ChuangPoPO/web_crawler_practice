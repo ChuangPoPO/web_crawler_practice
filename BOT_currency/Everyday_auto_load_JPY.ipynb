{
 "cells": [
  {
   "cell_type": "code",
   "execution_count": 1,
   "metadata": {},
   "outputs": [],
   "source": [
    "import sqlite3"
   ]
  },
  {
   "cell_type": "code",
   "execution_count": 2,
   "metadata": {},
   "outputs": [],
   "source": [
    "import pandas as pd"
   ]
  },
  {
   "cell_type": "code",
   "execution_count": 11,
   "metadata": {},
   "outputs": [],
   "source": [
    "with sqlite3.connect('C:/Users/poduo/Anaconda3_JupyterNB/20171217Python爬蟲實戰/BOT_currency/BOT_JPY.sqlite') as db:\n",
    "    df = pd.read_sql_query('select * from BOT_JPY', con = db)"
   ]
  },
  {
   "cell_type": "code",
   "execution_count": 13,
   "metadata": {},
   "outputs": [
    {
     "name": "stdout",
     "output_type": "stream",
     "text": [
      "<class 'pandas.core.frame.DataFrame'>\n",
      "RangeIndex: 129 entries, 0 to 128\n",
      "Data columns (total 6 columns):\n",
      "掛牌日期       129 non-null object\n",
      "幣別         129 non-null object\n",
      "現金-本行買入    129 non-null float64\n",
      "現金-本行賣出    129 non-null float64\n",
      "即期-本行買入    129 non-null float64\n",
      "即期-本行賣出    129 non-null float64\n",
      "dtypes: float64(4), object(2)\n",
      "memory usage: 6.1+ KB\n"
     ]
    }
   ],
   "source": [
    "df.info()"
   ]
  },
  {
   "cell_type": "code",
   "execution_count": 14,
   "metadata": {},
   "outputs": [
    {
     "data": {
      "text/html": [
       "<div>\n",
       "<style>\n",
       "    .dataframe thead tr:only-child th {\n",
       "        text-align: right;\n",
       "    }\n",
       "\n",
       "    .dataframe thead th {\n",
       "        text-align: left;\n",
       "    }\n",
       "\n",
       "    .dataframe tbody tr th {\n",
       "        vertical-align: top;\n",
       "    }\n",
       "</style>\n",
       "<table border=\"1\" class=\"dataframe\">\n",
       "  <thead>\n",
       "    <tr style=\"text-align: right;\">\n",
       "      <th></th>\n",
       "      <th>掛牌日期</th>\n",
       "      <th>幣別</th>\n",
       "      <th>現金-本行買入</th>\n",
       "      <th>現金-本行賣出</th>\n",
       "      <th>即期-本行買入</th>\n",
       "      <th>即期-本行賣出</th>\n",
       "    </tr>\n",
       "  </thead>\n",
       "  <tbody>\n",
       "    <tr>\n",
       "      <th>0</th>\n",
       "      <td>2018-01-24 00:00:00</td>\n",
       "      <td>日圓 (JPY)</td>\n",
       "      <td>0.2573</td>\n",
       "      <td>0.2683</td>\n",
       "      <td>0.2637</td>\n",
       "      <td>0.2677</td>\n",
       "    </tr>\n",
       "    <tr>\n",
       "      <th>1</th>\n",
       "      <td>2018-01-23 00:00:00</td>\n",
       "      <td>日圓 (JPY)</td>\n",
       "      <td>0.2553</td>\n",
       "      <td>0.2663</td>\n",
       "      <td>0.2617</td>\n",
       "      <td>0.2657</td>\n",
       "    </tr>\n",
       "    <tr>\n",
       "      <th>2</th>\n",
       "      <td>2018-01-22 00:00:00</td>\n",
       "      <td>日圓 (JPY)</td>\n",
       "      <td>0.2565</td>\n",
       "      <td>0.2675</td>\n",
       "      <td>0.2629</td>\n",
       "      <td>0.2669</td>\n",
       "    </tr>\n",
       "    <tr>\n",
       "      <th>3</th>\n",
       "      <td>2018-01-19 00:00:00</td>\n",
       "      <td>日圓 (JPY)</td>\n",
       "      <td>0.2573</td>\n",
       "      <td>0.2683</td>\n",
       "      <td>0.2637</td>\n",
       "      <td>0.2677</td>\n",
       "    </tr>\n",
       "    <tr>\n",
       "      <th>4</th>\n",
       "      <td>2018-01-18 00:00:00</td>\n",
       "      <td>日圓 (JPY)</td>\n",
       "      <td>0.2573</td>\n",
       "      <td>0.2683</td>\n",
       "      <td>0.2637</td>\n",
       "      <td>0.2677</td>\n",
       "    </tr>\n",
       "  </tbody>\n",
       "</table>\n",
       "</div>"
      ],
      "text/plain": [
       "                  掛牌日期        幣別  現金-本行買入  現金-本行賣出  即期-本行買入  即期-本行賣出\n",
       "0  2018-01-24 00:00:00  日圓 (JPY)   0.2573   0.2683   0.2637   0.2677\n",
       "1  2018-01-23 00:00:00  日圓 (JPY)   0.2553   0.2663   0.2617   0.2657\n",
       "2  2018-01-22 00:00:00  日圓 (JPY)   0.2565   0.2675   0.2629   0.2669\n",
       "3  2018-01-19 00:00:00  日圓 (JPY)   0.2573   0.2683   0.2637   0.2677\n",
       "4  2018-01-18 00:00:00  日圓 (JPY)   0.2573   0.2683   0.2637   0.2677"
      ]
     },
     "execution_count": 14,
     "metadata": {},
     "output_type": "execute_result"
    }
   ],
   "source": [
    "df.head(5)"
   ]
  },
  {
   "cell_type": "code",
   "execution_count": null,
   "metadata": {},
   "outputs": [],
   "source": []
  }
 ],
 "metadata": {
  "kernelspec": {
   "display_name": "Python 3",
   "language": "python",
   "name": "python3"
  },
  "language_info": {
   "codemirror_mode": {
    "name": "ipython",
    "version": 3
   },
   "file_extension": ".py",
   "mimetype": "text/x-python",
   "name": "python",
   "nbconvert_exporter": "python",
   "pygments_lexer": "ipython3",
   "version": "3.6.3"
  }
 },
 "nbformat": 4,
 "nbformat_minor": 2
}
