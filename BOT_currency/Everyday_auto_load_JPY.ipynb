{
 "cells": [
  {
   "cell_type": "markdown",
   "metadata": {},
   "source": [
    "# 讀取歷史資料"
   ]
  },
  {
   "cell_type": "code",
   "execution_count": 1,
   "metadata": {},
   "outputs": [],
   "source": [
    "import sqlite3"
   ]
  },
  {
   "cell_type": "code",
   "execution_count": 2,
   "metadata": {},
   "outputs": [],
   "source": [
    "import pandas as pd"
   ]
  },
  {
   "cell_type": "code",
   "execution_count": 3,
   "metadata": {},
   "outputs": [],
   "source": [
    "with sqlite3.connect('C:/Users/poduo/Anaconda3_JupyterNB/20171217Python爬蟲實戰/BOT_currency/BOT_JPY.sqlite') as db:\n",
    "    df = pd.read_sql_query('select * from BOT_JPY', con = db)"
   ]
  },
  {
   "cell_type": "code",
   "execution_count": 4,
   "metadata": {},
   "outputs": [
    {
     "name": "stdout",
     "output_type": "stream",
     "text": [
      "<class 'pandas.core.frame.DataFrame'>\n",
      "RangeIndex: 394 entries, 0 to 393\n",
      "Data columns (total 7 columns):\n",
      "index      394 non-null int64\n",
      "掛牌日期       394 non-null object\n",
      "幣別         394 non-null object\n",
      "現金-本行買入    394 non-null float64\n",
      "現金-本行賣出    394 non-null float64\n",
      "即期-本行買入    394 non-null float64\n",
      "即期-本行賣出    394 non-null float64\n",
      "dtypes: float64(4), int64(1), object(2)\n",
      "memory usage: 21.6+ KB\n"
     ]
    }
   ],
   "source": [
    "df.info()"
   ]
  },
  {
   "cell_type": "code",
   "execution_count": 5,
   "metadata": {},
   "outputs": [
    {
     "data": {
      "text/html": [
       "<div>\n",
       "<style>\n",
       "    .dataframe thead tr:only-child th {\n",
       "        text-align: right;\n",
       "    }\n",
       "\n",
       "    .dataframe thead th {\n",
       "        text-align: left;\n",
       "    }\n",
       "\n",
       "    .dataframe tbody tr th {\n",
       "        vertical-align: top;\n",
       "    }\n",
       "</style>\n",
       "<table border=\"1\" class=\"dataframe\">\n",
       "  <thead>\n",
       "    <tr style=\"text-align: right;\">\n",
       "      <th></th>\n",
       "      <th>index</th>\n",
       "      <th>掛牌日期</th>\n",
       "      <th>幣別</th>\n",
       "      <th>現金-本行買入</th>\n",
       "      <th>現金-本行賣出</th>\n",
       "      <th>即期-本行買入</th>\n",
       "      <th>即期-本行賣出</th>\n",
       "    </tr>\n",
       "  </thead>\n",
       "  <tbody>\n",
       "    <tr>\n",
       "      <th>0</th>\n",
       "      <td>0</td>\n",
       "      <td>2018-01-25 00:00:00</td>\n",
       "      <td>日圓 (JPY)</td>\n",
       "      <td>0.2583</td>\n",
       "      <td>0.2693</td>\n",
       "      <td>0.2647</td>\n",
       "      <td>0.2687</td>\n",
       "    </tr>\n",
       "    <tr>\n",
       "      <th>1</th>\n",
       "      <td>1</td>\n",
       "      <td>2018-01-25 00:00:00</td>\n",
       "      <td>日圓 (JPY)</td>\n",
       "      <td>0.2584</td>\n",
       "      <td>0.2694</td>\n",
       "      <td>0.2648</td>\n",
       "      <td>0.2688</td>\n",
       "    </tr>\n",
       "    <tr>\n",
       "      <th>2</th>\n",
       "      <td>2</td>\n",
       "      <td>2018-01-25 00:00:00</td>\n",
       "      <td>日圓 (JPY)</td>\n",
       "      <td>0.2583</td>\n",
       "      <td>0.2693</td>\n",
       "      <td>0.2647</td>\n",
       "      <td>0.2687</td>\n",
       "    </tr>\n",
       "    <tr>\n",
       "      <th>3</th>\n",
       "      <td>3</td>\n",
       "      <td>2018-01-24 00:00:00</td>\n",
       "      <td>日圓 (JPY)</td>\n",
       "      <td>0.2573</td>\n",
       "      <td>0.2683</td>\n",
       "      <td>0.2637</td>\n",
       "      <td>0.2677</td>\n",
       "    </tr>\n",
       "    <tr>\n",
       "      <th>4</th>\n",
       "      <td>4</td>\n",
       "      <td>2018-01-23 00:00:00</td>\n",
       "      <td>日圓 (JPY)</td>\n",
       "      <td>0.2553</td>\n",
       "      <td>0.2663</td>\n",
       "      <td>0.2617</td>\n",
       "      <td>0.2657</td>\n",
       "    </tr>\n",
       "  </tbody>\n",
       "</table>\n",
       "</div>"
      ],
      "text/plain": [
       "   index                 掛牌日期        幣別  現金-本行買入  現金-本行賣出  即期-本行買入  即期-本行賣出\n",
       "0      0  2018-01-25 00:00:00  日圓 (JPY)   0.2583   0.2693   0.2647   0.2687\n",
       "1      1  2018-01-25 00:00:00  日圓 (JPY)   0.2584   0.2694   0.2648   0.2688\n",
       "2      2  2018-01-25 00:00:00  日圓 (JPY)   0.2583   0.2693   0.2647   0.2687\n",
       "3      3  2018-01-24 00:00:00  日圓 (JPY)   0.2573   0.2683   0.2637   0.2677\n",
       "4      4  2018-01-23 00:00:00  日圓 (JPY)   0.2553   0.2663   0.2617   0.2657"
      ]
     },
     "execution_count": 5,
     "metadata": {},
     "output_type": "execute_result"
    }
   ],
   "source": [
    "df.head(5)"
   ]
  },
  {
   "cell_type": "markdown",
   "metadata": {},
   "source": [
    "# 抓取最新資料"
   ]
  },
  {
   "cell_type": "code",
   "execution_count": 6,
   "metadata": {},
   "outputs": [],
   "source": [
    "o_data = pd.read_html('http://rate.bot.com.tw/xrt/quote/l6m/JPY')\n",
    "jpy_his = o_data[0].iloc[:,0:6]\n",
    "jpy_his.columns = ['掛牌日期', '幣別', '現金-本行買入', '現金-本行賣出', '即期-本行買入', '即期-本行賣出']\n",
    "from datetime import datetime\n",
    "jpy_his = jpy_his.set_index(jpy_his['掛牌日期'])\n",
    "del jpy_his['掛牌日期']\n",
    "jpy_his.index = pd.to_datetime(jpy_his.index, format='%Y/%m/%d')"
   ]
  },
  {
   "cell_type": "markdown",
   "metadata": {},
   "source": [
    "### 取出最近1筆日期"
   ]
  },
  {
   "cell_type": "code",
   "execution_count": 7,
   "metadata": {},
   "outputs": [],
   "source": [
    "today_jpy = jpy_his.head(1)"
   ]
  },
  {
   "cell_type": "code",
   "execution_count": 23,
   "metadata": {},
   "outputs": [
    {
     "data": {
      "text/html": [
       "<div>\n",
       "<style>\n",
       "    .dataframe thead tr:only-child th {\n",
       "        text-align: right;\n",
       "    }\n",
       "\n",
       "    .dataframe thead th {\n",
       "        text-align: left;\n",
       "    }\n",
       "\n",
       "    .dataframe tbody tr th {\n",
       "        vertical-align: top;\n",
       "    }\n",
       "</style>\n",
       "<table border=\"1\" class=\"dataframe\">\n",
       "  <thead>\n",
       "    <tr style=\"text-align: right;\">\n",
       "      <th></th>\n",
       "      <th>幣別</th>\n",
       "      <th>現金-本行買入</th>\n",
       "      <th>現金-本行賣出</th>\n",
       "      <th>即期-本行買入</th>\n",
       "      <th>即期-本行賣出</th>\n",
       "    </tr>\n",
       "    <tr>\n",
       "      <th>掛牌日期</th>\n",
       "      <th></th>\n",
       "      <th></th>\n",
       "      <th></th>\n",
       "      <th></th>\n",
       "      <th></th>\n",
       "    </tr>\n",
       "  </thead>\n",
       "  <tbody>\n",
       "    <tr>\n",
       "      <th>2018-01-25</th>\n",
       "      <td>日圓 (JPY)</td>\n",
       "      <td>0.2581</td>\n",
       "      <td>0.2691</td>\n",
       "      <td>0.2645</td>\n",
       "      <td>0.2685</td>\n",
       "    </tr>\n",
       "  </tbody>\n",
       "</table>\n",
       "</div>"
      ],
      "text/plain": [
       "                  幣別  現金-本行買入  現金-本行賣出  即期-本行買入  即期-本行賣出\n",
       "掛牌日期                                                    \n",
       "2018-01-25  日圓 (JPY)   0.2581   0.2691   0.2645   0.2685"
      ]
     },
     "execution_count": 23,
     "metadata": {},
     "output_type": "execute_result"
    }
   ],
   "source": [
    "today_jpy"
   ]
  },
  {
   "cell_type": "markdown",
   "metadata": {},
   "source": [
    "### 寫入資料庫\n",
    "最新資料寫入 dataFrame\n",
    "\n",
    "整個 dataFrame 再寫入 SQLite"
   ]
  },
  {
   "cell_type": "code",
   "execution_count": 36,
   "metadata": {},
   "outputs": [],
   "source": [
    "with sqlite3.connect('BOT_JPY.sqlite') as db:\n",
    "    today_jpy.to_sql('BOT_JPY', con= db, if_exists = 'append')"
   ]
  },
  {
   "cell_type": "code",
   "execution_count": 37,
   "metadata": {},
   "outputs": [
    {
     "name": "stdout",
     "output_type": "stream",
     "text": [
      "<class 'pandas.core.frame.DataFrame'>\n",
      "RangeIndex: 131 entries, 0 to 130\n",
      "Data columns (total 7 columns):\n",
      "index      130 non-null float64\n",
      "掛牌日期       131 non-null object\n",
      "幣別         131 non-null object\n",
      "現金-本行買入    131 non-null float64\n",
      "現金-本行賣出    131 non-null float64\n",
      "即期-本行買入    131 non-null float64\n",
      "即期-本行賣出    131 non-null float64\n",
      "dtypes: float64(5), object(2)\n",
      "memory usage: 7.2+ KB\n"
     ]
    }
   ],
   "source": [
    "with sqlite3.connect('C:/Users/poduo/Anaconda3_JupyterNB/20171217Python爬蟲實戰/BOT_currency/BOT_JPY.sqlite') as db:\n",
    "    df = pd.read_sql_query('select * from BOT_JPY', con = db)\n",
    "df.info()"
   ]
  },
  {
   "cell_type": "code",
   "execution_count": 38,
   "metadata": {},
   "outputs": [
    {
     "data": {
      "text/html": [
       "<div>\n",
       "<style>\n",
       "    .dataframe thead tr:only-child th {\n",
       "        text-align: right;\n",
       "    }\n",
       "\n",
       "    .dataframe thead th {\n",
       "        text-align: left;\n",
       "    }\n",
       "\n",
       "    .dataframe tbody tr th {\n",
       "        vertical-align: top;\n",
       "    }\n",
       "</style>\n",
       "<table border=\"1\" class=\"dataframe\">\n",
       "  <thead>\n",
       "    <tr style=\"text-align: right;\">\n",
       "      <th></th>\n",
       "      <th>index</th>\n",
       "      <th>掛牌日期</th>\n",
       "      <th>幣別</th>\n",
       "      <th>現金-本行買入</th>\n",
       "      <th>現金-本行賣出</th>\n",
       "      <th>即期-本行買入</th>\n",
       "      <th>即期-本行賣出</th>\n",
       "    </tr>\n",
       "  </thead>\n",
       "  <tbody>\n",
       "    <tr>\n",
       "      <th>0</th>\n",
       "      <td>0.0</td>\n",
       "      <td>2018-01-25 00:00:00</td>\n",
       "      <td>日圓 (JPY)</td>\n",
       "      <td>0.2581</td>\n",
       "      <td>0.2691</td>\n",
       "      <td>0.2645</td>\n",
       "      <td>0.2685</td>\n",
       "    </tr>\n",
       "    <tr>\n",
       "      <th>1</th>\n",
       "      <td>NaN</td>\n",
       "      <td>2018-01-25 00:00:00</td>\n",
       "      <td>日圓 (JPY)</td>\n",
       "      <td>0.2581</td>\n",
       "      <td>0.2691</td>\n",
       "      <td>0.2645</td>\n",
       "      <td>0.2685</td>\n",
       "    </tr>\n",
       "    <tr>\n",
       "      <th>2</th>\n",
       "      <td>1.0</td>\n",
       "      <td>2018-01-24 00:00:00</td>\n",
       "      <td>日圓 (JPY)</td>\n",
       "      <td>0.2573</td>\n",
       "      <td>0.2683</td>\n",
       "      <td>0.2637</td>\n",
       "      <td>0.2677</td>\n",
       "    </tr>\n",
       "    <tr>\n",
       "      <th>3</th>\n",
       "      <td>2.0</td>\n",
       "      <td>2018-01-23 00:00:00</td>\n",
       "      <td>日圓 (JPY)</td>\n",
       "      <td>0.2553</td>\n",
       "      <td>0.2663</td>\n",
       "      <td>0.2617</td>\n",
       "      <td>0.2657</td>\n",
       "    </tr>\n",
       "    <tr>\n",
       "      <th>4</th>\n",
       "      <td>3.0</td>\n",
       "      <td>2018-01-22 00:00:00</td>\n",
       "      <td>日圓 (JPY)</td>\n",
       "      <td>0.2565</td>\n",
       "      <td>0.2675</td>\n",
       "      <td>0.2629</td>\n",
       "      <td>0.2669</td>\n",
       "    </tr>\n",
       "  </tbody>\n",
       "</table>\n",
       "</div>"
      ],
      "text/plain": [
       "   index                 掛牌日期        幣別  現金-本行買入  現金-本行賣出  即期-本行買入  即期-本行賣出\n",
       "0    0.0  2018-01-25 00:00:00  日圓 (JPY)   0.2581   0.2691   0.2645   0.2685\n",
       "1    NaN  2018-01-25 00:00:00  日圓 (JPY)   0.2581   0.2691   0.2645   0.2685\n",
       "2    1.0  2018-01-24 00:00:00  日圓 (JPY)   0.2573   0.2683   0.2637   0.2677\n",
       "3    2.0  2018-01-23 00:00:00  日圓 (JPY)   0.2553   0.2663   0.2617   0.2657\n",
       "4    3.0  2018-01-22 00:00:00  日圓 (JPY)   0.2565   0.2675   0.2629   0.2669"
      ]
     },
     "execution_count": 38,
     "metadata": {},
     "output_type": "execute_result"
    }
   ],
   "source": [
    "df = df.sort_values(by= ['掛牌日期'], ascending=False).reset_index(drop = True)\n",
    "df.head(5)"
   ]
  },
  {
   "cell_type": "code",
   "execution_count": 39,
   "metadata": {},
   "outputs": [
    {
     "data": {
      "text/html": [
       "<div>\n",
       "<style>\n",
       "    .dataframe thead tr:only-child th {\n",
       "        text-align: right;\n",
       "    }\n",
       "\n",
       "    .dataframe thead th {\n",
       "        text-align: left;\n",
       "    }\n",
       "\n",
       "    .dataframe tbody tr th {\n",
       "        vertical-align: top;\n",
       "    }\n",
       "</style>\n",
       "<table border=\"1\" class=\"dataframe\">\n",
       "  <thead>\n",
       "    <tr style=\"text-align: right;\">\n",
       "      <th></th>\n",
       "      <th>index</th>\n",
       "      <th>掛牌日期</th>\n",
       "      <th>幣別</th>\n",
       "      <th>現金-本行買入</th>\n",
       "      <th>現金-本行賣出</th>\n",
       "      <th>即期-本行買入</th>\n",
       "      <th>即期-本行賣出</th>\n",
       "    </tr>\n",
       "  </thead>\n",
       "  <tbody>\n",
       "    <tr>\n",
       "      <th>0</th>\n",
       "      <td>NaN</td>\n",
       "      <td>2018-01-25 00:00:00</td>\n",
       "      <td>日圓 (JPY)</td>\n",
       "      <td>0.2581</td>\n",
       "      <td>0.2691</td>\n",
       "      <td>0.2645</td>\n",
       "      <td>0.2685</td>\n",
       "    </tr>\n",
       "    <tr>\n",
       "      <th>1</th>\n",
       "      <td>1.0</td>\n",
       "      <td>2018-01-24 00:00:00</td>\n",
       "      <td>日圓 (JPY)</td>\n",
       "      <td>0.2573</td>\n",
       "      <td>0.2683</td>\n",
       "      <td>0.2637</td>\n",
       "      <td>0.2677</td>\n",
       "    </tr>\n",
       "    <tr>\n",
       "      <th>2</th>\n",
       "      <td>2.0</td>\n",
       "      <td>2018-01-23 00:00:00</td>\n",
       "      <td>日圓 (JPY)</td>\n",
       "      <td>0.2553</td>\n",
       "      <td>0.2663</td>\n",
       "      <td>0.2617</td>\n",
       "      <td>0.2657</td>\n",
       "    </tr>\n",
       "    <tr>\n",
       "      <th>3</th>\n",
       "      <td>3.0</td>\n",
       "      <td>2018-01-22 00:00:00</td>\n",
       "      <td>日圓 (JPY)</td>\n",
       "      <td>0.2565</td>\n",
       "      <td>0.2675</td>\n",
       "      <td>0.2629</td>\n",
       "      <td>0.2669</td>\n",
       "    </tr>\n",
       "    <tr>\n",
       "      <th>4</th>\n",
       "      <td>4.0</td>\n",
       "      <td>2018-01-19 00:00:00</td>\n",
       "      <td>日圓 (JPY)</td>\n",
       "      <td>0.2573</td>\n",
       "      <td>0.2683</td>\n",
       "      <td>0.2637</td>\n",
       "      <td>0.2677</td>\n",
       "    </tr>\n",
       "  </tbody>\n",
       "</table>\n",
       "</div>"
      ],
      "text/plain": [
       "   index                 掛牌日期        幣別  現金-本行買入  現金-本行賣出  即期-本行買入  即期-本行賣出\n",
       "0    NaN  2018-01-25 00:00:00  日圓 (JPY)   0.2581   0.2691   0.2645   0.2685\n",
       "1    1.0  2018-01-24 00:00:00  日圓 (JPY)   0.2573   0.2683   0.2637   0.2677\n",
       "2    2.0  2018-01-23 00:00:00  日圓 (JPY)   0.2553   0.2663   0.2617   0.2657\n",
       "3    3.0  2018-01-22 00:00:00  日圓 (JPY)   0.2565   0.2675   0.2629   0.2669\n",
       "4    4.0  2018-01-19 00:00:00  日圓 (JPY)   0.2573   0.2683   0.2637   0.2677"
      ]
     },
     "execution_count": 39,
     "metadata": {},
     "output_type": "execute_result"
    }
   ],
   "source": [
    "df = df.drop_duplicates(['掛牌日期'], keep = 'last').reset_index(drop = True)\n",
    "df.head(5)"
   ]
  },
  {
   "cell_type": "code",
   "execution_count": 40,
   "metadata": {},
   "outputs": [
    {
     "data": {
      "text/html": [
       "<div>\n",
       "<style>\n",
       "    .dataframe thead tr:only-child th {\n",
       "        text-align: right;\n",
       "    }\n",
       "\n",
       "    .dataframe thead th {\n",
       "        text-align: left;\n",
       "    }\n",
       "\n",
       "    .dataframe tbody tr th {\n",
       "        vertical-align: top;\n",
       "    }\n",
       "</style>\n",
       "<table border=\"1\" class=\"dataframe\">\n",
       "  <thead>\n",
       "    <tr style=\"text-align: right;\">\n",
       "      <th></th>\n",
       "      <th>掛牌日期</th>\n",
       "      <th>幣別</th>\n",
       "      <th>現金-本行買入</th>\n",
       "      <th>現金-本行賣出</th>\n",
       "      <th>即期-本行買入</th>\n",
       "      <th>即期-本行賣出</th>\n",
       "    </tr>\n",
       "  </thead>\n",
       "  <tbody>\n",
       "    <tr>\n",
       "      <th>0</th>\n",
       "      <td>2018-01-25 00:00:00</td>\n",
       "      <td>日圓 (JPY)</td>\n",
       "      <td>0.2581</td>\n",
       "      <td>0.2691</td>\n",
       "      <td>0.2645</td>\n",
       "      <td>0.2685</td>\n",
       "    </tr>\n",
       "    <tr>\n",
       "      <th>1</th>\n",
       "      <td>2018-01-24 00:00:00</td>\n",
       "      <td>日圓 (JPY)</td>\n",
       "      <td>0.2573</td>\n",
       "      <td>0.2683</td>\n",
       "      <td>0.2637</td>\n",
       "      <td>0.2677</td>\n",
       "    </tr>\n",
       "    <tr>\n",
       "      <th>2</th>\n",
       "      <td>2018-01-23 00:00:00</td>\n",
       "      <td>日圓 (JPY)</td>\n",
       "      <td>0.2553</td>\n",
       "      <td>0.2663</td>\n",
       "      <td>0.2617</td>\n",
       "      <td>0.2657</td>\n",
       "    </tr>\n",
       "    <tr>\n",
       "      <th>3</th>\n",
       "      <td>2018-01-22 00:00:00</td>\n",
       "      <td>日圓 (JPY)</td>\n",
       "      <td>0.2565</td>\n",
       "      <td>0.2675</td>\n",
       "      <td>0.2629</td>\n",
       "      <td>0.2669</td>\n",
       "    </tr>\n",
       "    <tr>\n",
       "      <th>4</th>\n",
       "      <td>2018-01-19 00:00:00</td>\n",
       "      <td>日圓 (JPY)</td>\n",
       "      <td>0.2573</td>\n",
       "      <td>0.2683</td>\n",
       "      <td>0.2637</td>\n",
       "      <td>0.2677</td>\n",
       "    </tr>\n",
       "  </tbody>\n",
       "</table>\n",
       "</div>"
      ],
      "text/plain": [
       "                  掛牌日期        幣別  現金-本行買入  現金-本行賣出  即期-本行買入  即期-本行賣出\n",
       "0  2018-01-25 00:00:00  日圓 (JPY)   0.2581   0.2691   0.2645   0.2685\n",
       "1  2018-01-24 00:00:00  日圓 (JPY)   0.2573   0.2683   0.2637   0.2677\n",
       "2  2018-01-23 00:00:00  日圓 (JPY)   0.2553   0.2663   0.2617   0.2657\n",
       "3  2018-01-22 00:00:00  日圓 (JPY)   0.2565   0.2675   0.2629   0.2669\n",
       "4  2018-01-19 00:00:00  日圓 (JPY)   0.2573   0.2683   0.2637   0.2677"
      ]
     },
     "execution_count": 40,
     "metadata": {},
     "output_type": "execute_result"
    }
   ],
   "source": [
    "del df['index']\n",
    "df.head(5)"
   ]
  },
  {
   "cell_type": "code",
   "execution_count": 41,
   "metadata": {},
   "outputs": [],
   "source": [
    "with sqlite3.connect('BOT_JPY.sqlite') as db:\n",
    "    df.to_sql('BOT_JPY', con= db, if_exists = 'replace')"
   ]
  },
  {
   "cell_type": "markdown",
   "metadata": {},
   "source": [
    "## 畫最新折線圖"
   ]
  },
  {
   "cell_type": "code",
   "execution_count": 42,
   "metadata": {},
   "outputs": [],
   "source": [
    "from datetime import datetime\n",
    "df = df.set_index(df['掛牌日期'])\n",
    "del df['掛牌日期']\n",
    "df.index = pd.to_datetime(df.index, format='%Y/%m/%d')"
   ]
  },
  {
   "cell_type": "code",
   "execution_count": 43,
   "metadata": {},
   "outputs": [
    {
     "data": {
      "text/html": [
       "<iframe id=\"igraph\" scrolling=\"no\" style=\"border:none;\" seamless=\"seamless\" src=\"https://plot.ly/~s842563/6.embed\" height=\"525px\" width=\"100%\"></iframe>"
      ],
      "text/plain": [
       "<plotly.tools.PlotlyDisplay object>"
      ]
     },
     "execution_count": 43,
     "metadata": {},
     "output_type": "execute_result"
    }
   ],
   "source": [
    "import plotly\n",
    "import plotly.plotly as py\n",
    "import plotly.graph_objs as go\n",
    "\n",
    "plotly.tools.set_credentials_file(username='s842563', api_key='gDEK6deJwLf0LwhD9BzC')\n",
    "\n",
    "trace_bank_sale = go.Scatter(x = df.index,\n",
    "                y=df['即期-本行賣出'],\n",
    "                name = \"即期匯率-本行賣出\",\n",
    "                line = dict(color = '#17BECF'),\n",
    "                opacity = 0.8)\n",
    "\n",
    "trace_bank_buy = go.Scatter(x = df.index,\n",
    "                y=df['即期-本行買入'],\n",
    "                name = \"即期匯率-本行買入\",\n",
    "                line = dict(color = 'red'),\n",
    "                opacity = 0.8)\n",
    "\n",
    "data = [trace_bank_sale, trace_bank_buy]\n",
    "\n",
    "layout = dict(\n",
    "    title = df['幣別'][0],\n",
    "    xaxis = dict(range = [df.index[-1], df.index[0]])\n",
    "             )\n",
    "\n",
    "fig = dict(data=data, layout=layout)\n",
    "\n",
    "py.iplot(fig, filename = df['幣別'][0])"
   ]
  },
  {
   "cell_type": "code",
   "execution_count": null,
   "metadata": {},
   "outputs": [],
   "source": []
  },
  {
   "cell_type": "code",
   "execution_count": null,
   "metadata": {},
   "outputs": [],
   "source": []
  },
  {
   "cell_type": "code",
   "execution_count": null,
   "metadata": {},
   "outputs": [],
   "source": []
  },
  {
   "cell_type": "code",
   "execution_count": null,
   "metadata": {},
   "outputs": [],
   "source": []
  },
  {
   "cell_type": "code",
   "execution_count": null,
   "metadata": {},
   "outputs": [],
   "source": []
  }
 ],
 "metadata": {
  "kernelspec": {
   "display_name": "Python 3",
   "language": "python",
   "name": "python3"
  },
  "language_info": {
   "codemirror_mode": {
    "name": "ipython",
    "version": 3
   },
   "file_extension": ".py",
   "mimetype": "text/x-python",
   "name": "python",
   "nbconvert_exporter": "python",
   "pygments_lexer": "ipython3",
   "version": "3.6.3"
  }
 },
 "nbformat": 4,
 "nbformat_minor": 2
}
